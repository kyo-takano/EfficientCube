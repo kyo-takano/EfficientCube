{
  "cells": [
    {
      "cell_type": "markdown",
      "metadata": {
        "id": "7fbESWTdAjqR"
      },
      "source": [
        "# **Self-Supervision is All You Need for Solving Rubik's Cube**\n",
        "---\n",
        "[![arXiv](https://img.shields.io/badge/arXiv-2106.03157-b31b1b?style=for-the-badge)](https://arxiv.org/abs/2106.03157)\n",
        "[![GitHub Repository](https://img.shields.io/badge/-Repository-2dba4e?logo=github&style=for-the-badge)](https://github.com/kyo-takano/EfficientCube)\n",
        "\n",
        "[![Open in Colab](https://colab.research.google.com/assets/colab-badge.svg)](https://colab.research.google.com/github/kyo-takano/EfficientCube/blob/main/notebooks/EfficientCube_Rubik's_Cube.ipynb)\n",
        "[![Open in Kaggle](https://kaggle.com/static/images/open-in-kaggle.svg)](https://kaggle.com/kernels/welcome?src=https://github.com/kyo-takano/EfficientCube/blob/main/notebooks/EfficientCube_Rubik's_Cube.ipynb)\n",
        "[![Open in Replicate](https://raw.githubusercontent.com/kyo-takano/EfficientCube/main/imgs/replicate-badge.svg)](https://replicate.com/kyo-takano/efficientcube)\n",
        "\n",
        "This notebook is intended to demonstrate the proposed method and to allow for reproducible experiments.\n",
        "\n",
        "For the purpose of demonstration, the number of training steps is set to $10000$ and the beam width is set to $2^{12}$ by default.\n",
        "If you want to replicate our best reported result, set ```TrainConfig.num_train_steps``` to $1000000$ and ```SearchConfig.beam_search``` to $2^{18}$. Note, however, that it will take several days to finish both training and inference.\n",
        "\n",
        "See paper for theoretical & experimental details.\n",
        "\n",
        "### **Training & Inference**\n",
        "\n",
        "The DNN is trained to predict the last move of a scramble based on the corresponding problem state. \\\n",
        "In inference, inverses of predicted last moves are applied to given states.\n",
        "\n",
        "### **Test**\n",
        "\n",
        "The trained model is evaluated on [1,000 test cases provided by Forest Agostinelli, et al. (2019)](https://github.com/forestagostinelli/DeepCubeA/) and compared to the result of DeepCubeA and an optimal solver in three respects: \n",
        "1.  solution lengths \n",
        "1.  number of nodes \n",
        "1.  computation times\n",
        "\n",
        "---\n",
        "### ***Q. How much time does this notebook take?***\n",
        "\n",
        "For reference, it took **about 3 hours** to run the entire notebook, including training, inference, and comparison.\n",
        "\n",
        "Computational resources: one 4-core CPU & one GPU ([NVIDIA Tesla P100 PCIe 16GB](https://images.nvidia.com/content/tesla/pdf/nvidia-tesla-p100-PCIe-datasheet.pdf))."
      ]
    },
    {
      "cell_type": "markdown",
      "metadata": {
        "id": "Bkm-I-6R8P_T"
      },
      "source": [
        "## Setup"
      ]
    },
    {
      "cell_type": "markdown",
      "metadata": {
        "id": "d9UauhNv_Hgp"
      },
      "source": [
        "Parameters"
      ]
    },
    {
      "cell_type": "code",
      "execution_count": null,
      "metadata": {
        "id": "hrbMOYJd-ukF"
      },
      "outputs": [],
      "source": [
        "# problem\n",
        "METRIC = \"QTM\"\n",
        "SCRAMBLE_LENGTH = {\"QTM\": 26, \"HTM\": 20}[METRIC]\n",
        "\n",
        "# training\n",
        "class TrainConfig:\n",
        "    learning_rate = 1e-3\n",
        "    batch_size_per_depth = 1000\n",
        "    num_train_steps = 10000\n",
        "    interval_steps_save = 1000\n",
        "    interval_steps_plot = 100\n",
        "    scramble_length = SCRAMBLE_LENGTH\n",
        "    eval__ = \"logits\" # following the paper. You are free to change this value to \"logits\"\n",
        "\n",
        "# inference\n",
        "class SearchConfig:\n",
        "    ## The wider the beam search, the more time required, but the shorter the solution.\n",
        "    beam_width = 2**12\n",
        "    ## This can be any number greater than or equal to the Gods Number.\n",
        "    max_depth = SCRAMBLE_LENGTH * 2\n"
      ]
    },
    {
      "cell_type": "markdown",
      "metadata": {
        "id": "ENu9Qut4Zwbg"
      },
      "source": [
        "Modules & Utilities"
      ]
    },
    {
      "cell_type": "code",
      "execution_count": null,
      "metadata": {
        "cellView": "form",
        "colab": {
          "base_uri": "https://localhost:8080/"
        },
        "id": "nF5FQBsiZxPB",
        "outputId": "03138557-a8f3-42b3-df11-f06bb01554b6"
      },
      "outputs": [
        {
          "name": "stdout",
          "output_type": "stream",
          "text": [
            "device: cuda:0\n",
            "multiprocessing.cpu_count(): 4\n",
            "GPU 0: Tesla P100-PCIE-16GB (UUID: GPU-4a46218d-1020-bc20-80bf-7cd062d248b2)\n"
          ]
        }
      ],
      "source": [
        "#@title\n",
        "import os\n",
        "import time\n",
        "import random\n",
        "import pickle\n",
        "import numpy as np\n",
        "import multiprocessing\n",
        "from scipy.special import softmax\n",
        "from copy import deepcopy\n",
        "from tqdm import tqdm, trange\n",
        "from IPython.display import clear_output\n",
        "\n",
        "import torch\n",
        "from torch import nn\n",
        "device = torch.device('cuda:0' if torch.cuda.is_available() else 'cpu')\n",
        "\n",
        "print(f'device: {device}')\n",
        "print(f'multiprocessing.cpu_count(): {multiprocessing.cpu_count()}')\n",
        "!nvidia-smi -L\n"
      ]
    },
    {
      "cell_type": "code",
      "execution_count": null,
      "metadata": {
        "cellView": "form",
        "id": "xyvOqOeQ5EfI"
      },
      "outputs": [],
      "source": [
        "#@title\n",
        "import matplotlib.pyplot as plt\n",
        "from cycler import cycler\n",
        "plt.rcParams[\"axes.prop_cycle\"] = cycler(color=[\"#212121\", \"#2180FE\", \"#EB4275\"])\n",
        "\n",
        "def plt_history(h):\n",
        "    fig, axes = plt.subplots(1, 1, figsize=[4, 4])\n",
        "    axes.plot(h)\n",
        "    axes.set_xscale(\"log\")\n",
        "    axes.set_title(\"Loss\")\n",
        "    plt.show()\n",
        "\n",
        "def regression_coef(x, y):\n",
        "    coef = np.array(y) / np.array(x)\n",
        "    coef = np.mean(np.squeeze(coef))\n",
        "    return coef\n",
        "\n",
        "def plot_result(solutions_all, num_nodes_all, times_all):\n",
        "    fig, ax = plt.subplots(2, 3, figsize=(16, 9))\n",
        "    ax = ax.ravel()\n",
        "    for i, result in enumerate([solutions_all, num_nodes_all, times_all]):\n",
        "        result = [e for e in result if e is not None]\n",
        "        if i == 0:  # soltions\n",
        "            result = [len(e) for e in result if e is not None]\n",
        "            ax[i].axvline(\n",
        "                np.mean(result),\n",
        "                color=\"#00ffff\",\n",
        "                label=f\"mean={round(np.mean(result),3)}\",\n",
        "            )\n",
        "            result = {i: result.count(i)\n",
        "                      for i in range(min(result), max(result) + 1)}\n",
        "            ax[i].bar(\n",
        "                result.keys(),\n",
        "                result.values(),\n",
        "                width=1.0,\n",
        "                label=f\"Success: {len([len(e) for e in solutions_all if e is not None])}/{len(solutions_all)}\",\n",
        "            )\n",
        "            ax[i].legend()\n",
        "            ax[i].set_xlabel(\"Solution length\")\n",
        "            ax[i].set_ylabel(\"Frequency\")\n",
        "        else:\n",
        "            ax[i].hist(result)\n",
        "            ax[i].axvline(\n",
        "                np.mean(result),\n",
        "                color=\"#00ffff\",\n",
        "                label=f\"mean={round(np.mean(result),3)}\",\n",
        "            )\n",
        "            ax[i].legend()\n",
        "            if i == 1:\n",
        "                ax[i].set_xlabel(\"No. of nodes\")\n",
        "            else:\n",
        "                ax[i].set_xlabel(\"Calculation time (s)\")\n",
        "\n",
        "    solution_lengths, num_nodes, times = [\n",
        "        [e for e in result if e is not None]\n",
        "        for result in [solutions_all, num_nodes_all, times_all]\n",
        "    ]\n",
        "    solution_lengths = [len(e) for e in solution_lengths]\n",
        "\n",
        "    for (xlabel, ylabel), (x, y) in [\n",
        "        [(\"Solution lengths\", \"No. of nodes\"), (solution_lengths, num_nodes)],\n",
        "        [(\"No. of nodes\", \"Calculation time (s)\"), (num_nodes, times)],\n",
        "        [(\"Calculation time (s)\", \"Solution lengths\"), (times, solution_lengths)],\n",
        "    ]:\n",
        "        i += 1\n",
        "        ax[i].set_xlabel(xlabel)\n",
        "        ax[i].set_ylabel(ylabel)\n",
        "        x_range = np.linspace(0, max(x), 100)\n",
        "        ax[i].plot(\n",
        "            x_range,\n",
        "            x_range * regression_coef(x, y),\n",
        "            label=f\"slope={round(regression_coef(x, y), 5)}\",\n",
        "            color=\"#00ffff\",\n",
        "        )\n",
        "        ax[i].scatter(x, y)\n",
        "        ax[i].legend()\n",
        "\n",
        "    plt.show()\n"
      ]
    },
    {
      "cell_type": "markdown",
      "metadata": {
        "id": "2bYs2VICZxdg"
      },
      "source": [
        "## Environment: Rubik's Cube\n",
        "Rubik's Cube is operated based on the locations and colors of 6$\\times$9 stickers.\n",
        "\n",
        "We employ [Quarter-Turn Metric](https://www.speedsolving.com/wiki/index.php/Metric#QTM) (90° turns count as one move; 180°, two) for both scrambling and solving the puzzle.\n"
      ]
    },
    {
      "cell_type": "code",
      "execution_count": null,
      "metadata": {
        "id": "QjlRyQ6LZ45Q"
      },
      "outputs": [],
      "source": [
        "class Cube3(object):\n",
        "    \"\"\"\n",
        "    A class for 3x3x3 Rubik's Cube\n",
        "    \"\"\"\n",
        "    def __init__(self, metric=\"QTM\"):\n",
        "        self.DTYPE = np.int64\n",
        "        self.metric = metric\n",
        "\n",
        "        # define state and goal\n",
        "        self.reset()  # state\n",
        "        self.goal = np.arange(0, 9 * 6, dtype=self.DTYPE) // 9\n",
        "\n",
        "        # define moves\n",
        "        ## faces and turns\n",
        "        faces = [\"U\", \"D\", \"L\", \"R\", \"B\", \"F\"]\n",
        "        ## [90 degrees clockwise, 90 degrees counter-clockwise]\n",
        "        degrees = [\"\", \"'\"]\n",
        "        degrees_inference = degrees[::-1]\n",
        "        if self.metric == \"HTM\":\n",
        "            # += [180 degrees]\n",
        "            degrees += [\"2\"]\n",
        "            degrees_inference += [\"2\"]\n",
        "        else:\n",
        "            assert self.metric == \"QTM\"\n",
        "        self.moves = [f\"{f}{n}\" for f in faces for n in degrees]\n",
        "        self.moves_inference = [f\"{f}{n}\" for f in faces for n in degrees_inference]\n",
        "\n",
        "        # opposite faces\n",
        "        self.pairing = {\n",
        "            \"R\": \"L\",\n",
        "            \"L\": \"R\",\n",
        "            \"F\": \"B\",\n",
        "            \"B\": \"F\",\n",
        "            \"U\": \"D\",\n",
        "            \"D\": \"U\",\n",
        "        }\n",
        "        # prohibit obviously reduntant moves. \n",
        "        if self.metric == \"HTM\":\n",
        "            # two subsequent moves on the same face (cancelling or redundant).\n",
        "            self.moves_available_after = {\n",
        "                m: [v for v in self.moves if v[0] != m[0]] for m in self.moves\n",
        "            }\n",
        "        elif self.metric == \"QTM\":\n",
        "            # self-cancelling moves on the same face\n",
        "            self.moves_available_after = {\n",
        "                m: [v for v in self.moves if v[0] != m[0]] + [m] for m in self.moves\n",
        "            }\n",
        "        else:\n",
        "            raise\n",
        "\n",
        "        # vectorize the sticker group replacement operations\n",
        "        self.__vectorize_moves()\n",
        "\n",
        "    def reset(self):\n",
        "        self.state = np.arange(0, 9 * 6, dtype=self.DTYPE) // 9\n",
        "\n",
        "    def is_solved(self):\n",
        "        return np.all(self.state == self.goal)\n",
        "\n",
        "    def state_to_batch(self):\n",
        "        return np.expand_dims(self.state, axis=0)\n",
        "\n",
        "    def finger(self, move):\n",
        "        self.state[self.sticker_target[move]] = self.state[self.sticker_source[move]]\n",
        "\n",
        "    def apply_scramble(self, scramble):\n",
        "        if isinstance(scramble, str):\n",
        "            scramble = scramble.split()\n",
        "        for m in scramble:\n",
        "            if m[-1]=='2':\n",
        "                for _ in range(2):\n",
        "                    self.finger(m[0])\n",
        "            else:\n",
        "                    self.finger(m)\n",
        "\n",
        "    def scrambler(self, scramble_length):\n",
        "        \"\"\"\n",
        "        A generator function yielding the state and scramble\n",
        "        \"\"\"\n",
        "        while True:\n",
        "            # reset the self.state, scramble, and retun self.state and scramble moves\n",
        "            self.reset()\n",
        "            scramble = []\n",
        "\n",
        "            for i in range(scramble_length):\n",
        "                if i:\n",
        "                    last_move = scramble[-1]\n",
        "                    if i > 1:  # N(>=3)th moves\n",
        "                        while True:\n",
        "                            move = random.choice(self.moves_available_after[last_move])\n",
        "                            if self.metric == \"QTM\":\n",
        "                                if scramble[-2] == last_move == move:\n",
        "                                    # Two mutually canceling moves in a row\n",
        "                                    continue\n",
        "                                elif (\n",
        "                                    scramble[-2][0] == move[0]\n",
        "                                    and len(scramble[-2] + move) == 3\n",
        "                                    and last_move[0] == self.pairing[move[0]]\n",
        "                                ):\n",
        "                                    # Two mutually canceling moves sandwiching an opposite face move\n",
        "                                    continue\n",
        "                                else:\n",
        "                                    break\n",
        "                            elif self.metric == \"HTM\":\n",
        "                                if scramble[-2][0] == move[0] and last_move[0] == self.pairing[move[0]]:\n",
        "                                    # Two mutually canceling moves sandwiching an opposite face move\n",
        "                                    continue\n",
        "                                else:\n",
        "                                    break\n",
        "                            else:\n",
        "                                raise\n",
        "                    else:  # 2nd move\n",
        "                        move = random.choice(self.moves_available_after[last_move])\n",
        "                else:  # 1st move\n",
        "                    move = random.choice(self.moves)\n",
        "\n",
        "                self.finger(move)\n",
        "                scramble.append(move)\n",
        "\n",
        "                yield self.state, move\n",
        "\n",
        "    def __vectorize_moves(self):\n",
        "        \"\"\"\n",
        "        This method defines ```self.sticker_target``` and ```self.sticker_source``` to manage sticker colors (target is replaced by source).\n",
        "        They define indices of target and source stickers so that the moves can be vectorized.\n",
        "\n",
        "        colors:\n",
        "                0 0 0\n",
        "                0 0 0\n",
        "                0 0 0\n",
        "            2 2 2 5 5 5 3 3 3 4 4 4\n",
        "            2 2 2 5 5 5 3 3 3 4 4 4\n",
        "            2 2 2 5 5 5 3 3 3 4 4 4\n",
        "                1 1 1\n",
        "                1 1 1\n",
        "                1 1 1\n",
        "        order of stickers on each face:\n",
        "             2  5  8\n",
        "             1  4  7\n",
        "            [0] 3  6\n",
        "\n",
        "        indices of state (each starting with 9*(n-1)):\n",
        "                         2   5   8\n",
        "                         1   4   7\n",
        "                        [0]  3   6\n",
        "             20  23 26  47  50  53  29  32 35  38  41 44\n",
        "             19  22 25  46  49  52  28  31 34  37  40 43\n",
        "            [18] 21 24 [45] 48  51 [27] 30 33 [36] 39 42\n",
        "                        11   14 17\n",
        "                        10   13 16\n",
        "                        [9]  12 15\n",
        "        \"\"\"\n",
        "        self.sticker_target, self.sticker_source = dict(), dict()\n",
        "\n",
        "        self.sticker_replacement = {\n",
        "            # Sticker A is replaced by another sticker at index B -> A:B\n",
        "            \"U\": {\n",
        "                0: 6,\n",
        "                1: 3,\n",
        "                2: 0,\n",
        "                3: 7,\n",
        "                5: 1,\n",
        "                6: 8,\n",
        "                7: 5,\n",
        "                8: 2,\n",
        "                20: 47,\n",
        "                23: 50,\n",
        "                26: 53,\n",
        "                29: 38,\n",
        "                32: 41,\n",
        "                35: 44,\n",
        "                38: 20,\n",
        "                41: 23,\n",
        "                44: 26,\n",
        "                47: 29,\n",
        "                50: 32,\n",
        "                53: 35,\n",
        "            },\n",
        "            \"D\": {\n",
        "                9: 15,\n",
        "                10: 12,\n",
        "                11: 9,\n",
        "                12: 16,\n",
        "                14: 10,\n",
        "                15: 17,\n",
        "                16: 14,\n",
        "                17: 11,\n",
        "                18: 36,\n",
        "                21: 39,\n",
        "                24: 42,\n",
        "                27: 45,\n",
        "                30: 48,\n",
        "                33: 51,\n",
        "                36: 27,\n",
        "                39: 30,\n",
        "                42: 33,\n",
        "                45: 18,\n",
        "                48: 21,\n",
        "                51: 24,\n",
        "            },\n",
        "            \"L\": {\n",
        "                0: 44,\n",
        "                1: 43,\n",
        "                2: 42,\n",
        "                9: 45,\n",
        "                10: 46,\n",
        "                11: 47,\n",
        "                18: 24,\n",
        "                19: 21,\n",
        "                20: 18,\n",
        "                21: 25,\n",
        "                23: 19,\n",
        "                24: 26,\n",
        "                25: 23,\n",
        "                26: 20,\n",
        "                42: 11,\n",
        "                43: 10,\n",
        "                44: 9,\n",
        "                45: 0,\n",
        "                46: 1,\n",
        "                47: 2,\n",
        "            },\n",
        "            \"R\": {\n",
        "                6: 51,\n",
        "                7: 52,\n",
        "                8: 53,\n",
        "                15: 38,\n",
        "                16: 37,\n",
        "                17: 36,\n",
        "                27: 33,\n",
        "                28: 30,\n",
        "                29: 27,\n",
        "                30: 34,\n",
        "                32: 28,\n",
        "                33: 35,\n",
        "                34: 32,\n",
        "                35: 29,\n",
        "                36: 8,\n",
        "                37: 7,\n",
        "                38: 6,\n",
        "                51: 15,\n",
        "                52: 16,\n",
        "                53: 17,\n",
        "            },\n",
        "            \"B\": {\n",
        "                2: 35,\n",
        "                5: 34,\n",
        "                8: 33,\n",
        "                9: 20,\n",
        "                12: 19,\n",
        "                15: 18,\n",
        "                18: 2,\n",
        "                19: 5,\n",
        "                20: 8,\n",
        "                33: 9,\n",
        "                34: 12,\n",
        "                35: 15,\n",
        "                36: 42,\n",
        "                37: 39,\n",
        "                38: 36,\n",
        "                39: 43,\n",
        "                41: 37,\n",
        "                42: 44,\n",
        "                43: 41,\n",
        "                44: 38,\n",
        "            },\n",
        "            \"F\": {\n",
        "                0: 24,\n",
        "                3: 25,\n",
        "                6: 26,\n",
        "                11: 27,\n",
        "                14: 28,\n",
        "                17: 29,\n",
        "                24: 17,\n",
        "                25: 14,\n",
        "                26: 11,\n",
        "                27: 6,\n",
        "                28: 3,\n",
        "                29: 0,\n",
        "                45: 51,\n",
        "                46: 48,\n",
        "                47: 45,\n",
        "                48: 52,\n",
        "                50: 46,\n",
        "                51: 53,\n",
        "                52: 50,\n",
        "                53: 47,\n",
        "            },\n",
        "        }\n",
        "        for m in self.moves:\n",
        "            if len(m) == 1:\n",
        "                assert m in self.sticker_replacement\n",
        "            else:\n",
        "                if \"'\" in m:\n",
        "                    self.sticker_replacement[m] = {\n",
        "                        v: k for k, v in self.sticker_replacement[m[0]].items()\n",
        "                    }\n",
        "                elif \"2\" in m:\n",
        "                    self.sticker_replacement[m] = {\n",
        "                        k: self.sticker_replacement[m[0]][v]\n",
        "                        for k, v in self.sticker_replacement[m[0]].items()\n",
        "                    }\n",
        "                else:\n",
        "                    raise\n",
        "\n",
        "            self.sticker_target[m] = list(self.sticker_replacement[m].keys())\n",
        "            self.sticker_source[m] = list(self.sticker_replacement[m].values())\n",
        "\n",
        "            for i, idx in enumerate(self.sticker_target[m]):\n",
        "                assert self.sticker_replacement[m][idx] == self.sticker_source[m][i]\n",
        "\n",
        "env = Cube3()"
      ]
    },
    {
      "cell_type": "markdown",
      "metadata": {
        "id": "aJFeXe-za8oL"
      },
      "source": [
        "## Model"
      ]
    },
    {
      "cell_type": "code",
      "execution_count": null,
      "metadata": {
        "id": "cO471ABebCl6"
      },
      "outputs": [],
      "source": [
        "class LinearBlock(nn.Module):\n",
        "    \"\"\"\n",
        "    Linear layer with ReLU and BatchNorm\n",
        "    \"\"\"\n",
        "    def __init__(self, input_prev, embed_dim):\n",
        "        super(LinearBlock, self).__init__()\n",
        "        self.fc = nn.Linear(input_prev, embed_dim)\n",
        "        self.relu = nn.ReLU()\n",
        "        self.bn = nn.BatchNorm1d(embed_dim)\n",
        "\n",
        "    def forward(self, inputs):\n",
        "        x = inputs\n",
        "        x = self.fc(x)\n",
        "        x = self.relu(x)\n",
        "        x = self.bn(x)\n",
        "        return x\n",
        "\n",
        "class ResidualBlock(nn.Module):\n",
        "    \"\"\"\n",
        "    Residual block with two linear layers\n",
        "    \"\"\"\n",
        "    def __init__(self, embed_dim):\n",
        "        super(ResidualBlock, self).__init__()\n",
        "        self.linearblock_1 = LinearBlock(embed_dim, embed_dim)\n",
        "        self.linearblock_2 = LinearBlock(embed_dim, embed_dim)\n",
        "\n",
        "    def forward(self, inputs):\n",
        "        x = inputs\n",
        "        x = self.linearblock_1(x)\n",
        "        x = self.linearblock_2(x)\n",
        "        x += inputs # skip-connection\n",
        "        return x\n",
        "\n",
        "class Model(nn.Module):\n",
        "    def __init__(self):\n",
        "        super(Model, self).__init__()\n",
        "        self.one_hot = nn.functional.one_hot\n",
        "        self.Stack = nn.Sequential(\n",
        "            LinearBlock(324, 5000),\n",
        "            LinearBlock(5000, 1000),\n",
        "            ResidualBlock(1000),\n",
        "            ResidualBlock(1000),\n",
        "            ResidualBlock(1000),\n",
        "            ResidualBlock(1000),\n",
        "        )\n",
        "        self.Prediction = nn.Linear(1000, len(env.moves))\n",
        "\n",
        "    def forward(self, inputs):\n",
        "        x = inputs\n",
        "        x = self.one_hot(x, num_classes=6).to(torch.float).reshape(-1, 324)\n",
        "        x = self.Stack(x)\n",
        "        logits = self.Prediction(x)\n",
        "        return logits\n",
        "\n",
        "model = Model().to(device)"
      ]
    },
    {
      "cell_type": "markdown",
      "metadata": {
        "id": "gv617n3MbSdO"
      },
      "source": [
        "## Training"
      ]
    },
    {
      "cell_type": "code",
      "execution_count": null,
      "metadata": {
        "id": "C8845Zz4E5Sw"
      },
      "outputs": [],
      "source": [
        "def batch_generator(\n",
        "        batch_size_per_depth,\n",
        "        scramble_length=SCRAMBLE_LENGTH,\n",
        "        n_jobs=multiprocessing.cpu_count(),\n",
        "    ):\n",
        "    # setup\n",
        "    __dtype = np.int64\n",
        "    batch_size = batch_size_per_depth * scramble_length\n",
        "    # multiprocessing\n",
        "    envs = [Cube3()] * n_jobs\n",
        "    generators = [c.scrambler(scramble_length=scramble_length) for c in envs]\n",
        "\n",
        "    global get_minibatch\n",
        "\n",
        "    def get_minibatch(i):\n",
        "        states = np.zeros((scramble_length, 9 * 6), dtype=__dtype)\n",
        "        last_moves = np.zeros((scramble_length,), dtype=__dtype)\n",
        "        g_local = generators[i % n_jobs]\n",
        "        for j in range(scramble_length):\n",
        "            _, last_move = next(g_local)\n",
        "            states[j, :] = envs[i % n_jobs].state  # _to_numpy()\n",
        "            last_moves[j] = env.moves.index(last_move)\n",
        "\n",
        "        return states, last_moves\n",
        "\n",
        "    # create the Pool instance after defining `envs` and `get_minibatch`\n",
        "    p = multiprocessing.Pool(n_jobs)\n",
        "    for _ in iter(int, 1):\n",
        "        ret = p.map(get_minibatch, list(range(batch_size_per_depth)))\n",
        "        batch_x = np.concatenate([e[0] for e in ret])\n",
        "        batch_y = np.concatenate([e[1] for e in ret], axis=0)\n",
        "        yield (batch_x, batch_y)"
      ]
    },
    {
      "cell_type": "code",
      "execution_count": null,
      "metadata": {
        "id": "rD5KQfJpbXyA"
      },
      "outputs": [],
      "source": [
        "def train(config):\n",
        "    model.train()\n",
        "    loss_fn = nn.CrossEntropyLoss()\n",
        "    optimizer = torch.optim.Adam(model.parameters(), lr=config.learning_rate)\n",
        "\n",
        "    BATCH_SIZE = config.batch_size_per_depth * config.scramble_length\n",
        "    scramble_length = config.scramble_length\n",
        "    g = batch_generator(\n",
        "        batch_size_per_depth=config.batch_size_per_depth,\n",
        "        scramble_length=config.scramble_length,\n",
        "    )\n",
        "    h = []\n",
        "\n",
        "    for i in trange(1, config.num_train_steps + 1, smoothing=0):\n",
        "        # prep\n",
        "        batch_x, batch_y = next(g)\n",
        "        batch_x, batch_y = torch.from_numpy(batch_x).to(device), torch.from_numpy(\n",
        "            batch_y\n",
        "        ).to(device)\n",
        "\n",
        "        # update\n",
        "        pred_y = model(batch_x)\n",
        "        loss = loss_fn(pred_y, batch_y)\n",
        "        optimizer.zero_grad()\n",
        "        loss.backward()\n",
        "        optimizer.step()\n",
        "\n",
        "        h.append(loss.item())\n",
        "        if config.interval_steps_plot and i % config.interval_steps_plot == 0:\n",
        "            clear_output()\n",
        "            plt_history(h)\n",
        "        if config.interval_steps_save and i % config.interval_steps_save == 0:\n",
        "            torch.save(model.state_dict(), f\"{i}steps.pth\")\n",
        "            print(\"Model saved.\")"
      ]
    },
    {
      "cell_type": "code",
      "execution_count": null,
      "metadata": {
        "colab": {
          "base_uri": "https://localhost:8080/",
          "height": 337
        },
        "id": "7R-wfEN4dodR",
        "outputId": "d7787bc9-9711-4778-9db1-3972faad1aa4"
      },
      "outputs": [
        {
          "data": {
            "image/png": "[encoded data removed]",
            "text/plain": [
              "<Figure size 288x288 with 1 Axes>"
            ]
          },
          "metadata": {
            "needs_background": "light"
          },
          "output_type": "display_data"
        },
        {
          "name": "stderr",
          "output_type": "stream",
          "text": [
            "100%|██████████| 10000/10000 [1:20:06<00:00,  2.08it/s]"
          ]
        },
        {
          "name": "stdout",
          "output_type": "stream",
          "text": [
            "Model saved.\n",
            "Trained on data equivalent to 10000000 solves.\n"
          ]
        },
        {
          "name": "stderr",
          "output_type": "stream",
          "text": [
            "\n"
          ]
        }
      ],
      "source": [
        "train(TrainConfig)\n",
        "print(f\"Trained on data equivalent to {TrainConfig.batch_size_per_depth * TrainConfig.num_train_steps} solves.\")\n"
      ]
    },
    {
      "cell_type": "markdown",
      "metadata": {
        "id": "slgl-ZobeqfU"
      },
      "source": [
        "## Inference\n",
        "\n",
        "We test and compare on the DeepCubeA dataset"
      ]
    },
    {
      "cell_type": "code",
      "execution_count": null,
      "metadata": {
        "id": "59-Cs4qnUzag"
      },
      "outputs": [],
      "source": [
        "%%capture\n",
        "model.eval()"
      ]
    },
    {
      "cell_type": "markdown",
      "metadata": {
        "id": "TM9TBcgGIglD"
      },
      "source": [
        "### Dataset: DeepCubeA\n",
        "\n",
        "Downloading from GitHub"
      ]
    },
    {
      "cell_type": "code",
      "execution_count": null,
      "metadata": {
        "colab": {
          "base_uri": "https://localhost:8080/"
        },
        "id": "NPNMHAr-eess",
        "outputId": "db6646b3-42cb-4cc2-efb7-dc78b581fcb7"
      },
      "outputs": [
        {
          "name": "stdout",
          "output_type": "stream",
          "text": [
            "/content\n",
            "/content/DeepCubeA\n",
            "### Optimal Solver ###\n",
            "dict_keys(['states', 'times', 'solutions', 'num_nodes_generated'])\n",
            "No. of cases: 1000\n",
            "\n",
            "### DeepCubeA ###\n",
            "dict_keys(['states', 'solutions', 'paths', 'times', 'num_nodes_generated'])\n",
            "No. of cases: 1000\n",
            "/content\n"
          ]
        }
      ],
      "source": [
        "if \"DeepCubeA\"!=os.getcwd().split(\"/\")[-1]:\n",
        "    if not os.path.exists('DeepCubeA'):\n",
        "        !git clone -q https://github.com/forestagostinelli/DeepCubeA\n",
        "    %cd ./DeepCubeA/\n",
        "\n",
        "print('### Optimal Solver ###')\n",
        "filename = 'data/cube3/test/data_0.pkl'\n",
        "with open(filename, 'rb') as f:\n",
        "    data_Optimal = pickle.load(f)\n",
        "\n",
        "print(data_Optimal.keys())\n",
        "solutions_Optimal, times_Optimal, num_nodes_Optimal = [\n",
        "    data_Optimal[e] for e in ['solutions', 'times', 'num_nodes_generated']]\n",
        "len_Optimal = [len(s) for s in solutions_Optimal]\n",
        "len_Optimal_count = {i: len_Optimal.count(\n",
        "    i) for i in range(min(len_Optimal), max(len_Optimal))}\n",
        "\n",
        "print('No. of cases:', len(len_Optimal))\n",
        "\n",
        "print('\\n### DeepCubeA ###')\n",
        "\n",
        "filename = 'results/cube3/results.pkl'\n",
        "with open(filename, 'rb') as f:\n",
        "    data_DeepCubeA = pickle.load(f)\n",
        "\n",
        "print(data_DeepCubeA.keys())\n",
        "solutions_DeepCubeA, times_DeepCubeA, num_nodes_DeepCubeA = [\n",
        "    data_DeepCubeA[e] for e in ['solutions', 'times', 'num_nodes_generated']]\n",
        "len_DeepCubeA = [len(s) for s in solutions_DeepCubeA]\n",
        "len_DeepCubeA_count = {i: len_DeepCubeA.count(\n",
        "    i) for i in range(min(len_DeepCubeA), max(len_DeepCubeA))}\n",
        "\n",
        "print('No. of cases:', len(solutions_DeepCubeA))\n",
        "\n",
        "%cd ../"
      ]
    },
    {
      "cell_type": "markdown",
      "metadata": {
        "id": "sjFUDDbPJF_2"
      },
      "source": [
        "Convert optimal solutions to test scrambles"
      ]
    },
    {
      "cell_type": "code",
      "execution_count": null,
      "metadata": {
        "colab": {
          "base_uri": "https://localhost:8080/"
        },
        "id": "OE78EUviHpzq",
        "outputId": "04e006d1-1f4f-4705-bed8-46e07dcd180f"
      },
      "outputs": [
        {
          "name": "stdout",
          "output_type": "stream",
          "text": [
            "Example:\n",
            "[['D', -1], ['F', 1], ['R', 1], ['U', -1], ['F', 1], ['F', 1], ['R', 1], ['U', 1], ['F', 1], ['R', 1], ['B', -1], ['R', -1], ['F', -1], ['R', -1], ['D', -1], ['U', -1], ['R', -1], ['U', -1], ['U', -1], ['R', -1], ['U', 1], ['B', -1]] ->\n",
            "['B', \"U'\", 'R', 'U', 'U', 'R', 'U', 'D', 'R', 'F', 'R', 'B', \"R'\", \"F'\", \"U'\", \"R'\", \"F'\", \"F'\", 'U', \"R'\", \"F'\", 'D']\n"
          ]
        }
      ],
      "source": [
        "# scrambles are the inverse of the optimal solutions\n",
        "def solution2scramble(solution):\n",
        "    return [m[0] if m[1] == -1 else m[0] + \"'\" for m in solution[::-1]]\n",
        "\n",
        "test_scrambles = [solution2scramble(s) for s in solutions_Optimal]\n",
        "\n",
        "print(f\"\"\"Example: {solutions_Optimal[0]} -> {test_scrambles[0]}\"\"\")"
      ]
    },
    {
      "cell_type": "markdown",
      "metadata": {
        "id": "nkzlyw7Ffg36"
      },
      "source": [
        "### Beam Search"
      ]
    },
    {
      "cell_type": "code",
      "execution_count": null,
      "metadata": {
        "id": "lHPcDfSnfijx"
      },
      "outputs": [],
      "source": [
        "def beam_search(\n",
        "        env,\n",
        "        model,\n",
        "        max_depth,\n",
        "        beam_width,\n",
        "        __eval = SearchConfig.eval__,\n",
        "        skip_redundant_moves=True,\n",
        "    ):\n",
        "    \"\"\"\n",
        "    Best-first search algorithm.\n",
        "    Input:\n",
        "        env: A scrambled instance of the given environment. \n",
        "        beam_width: Number of top solutions to return per depth.\n",
        "        max_depth: Maximum depth of the search tree.\n",
        "        __eval: Evaluation method for sorting nodes to expand, based on DNN outputs: 'softmax', 'logits', or 'cumprod'. \n",
        "        skip_redundant_moves: If True, skip redundant moves.\n",
        "        ...\n",
        "    Output: \n",
        "        if solved successfully:\n",
        "            True, {'solutions':solution path, \"num_nodes\":number of nodes expanded, \"times\":time taken to solve}\n",
        "        else:\n",
        "            False, None\n",
        "    \"\"\"\n",
        "    with torch.no_grad():\n",
        "        # metrics\n",
        "        num_nodes, time_0 = 0, time.time()\n",
        "        candidates = [\n",
        "            {\"state\":deepcopy(env.state), \"path\":[], \"value\":1.}\n",
        "        ] # list of dictionaries\n",
        "\n",
        "        for depth in range(max_depth+1):\n",
        "            # TWO things at a time for every candidate: 1. check if solved & 2. add to batch_x\n",
        "            batch_x = np.zeros((len(candidates), env.state.shape[-1]), dtype=np.int64)\n",
        "            for i,c in enumerate(candidates):\n",
        "                c_path, env.state = c[\"path\"], c[\"state\"]\n",
        "                if c_path:\n",
        "                    env.finger(c_path[-1])\n",
        "                    num_nodes += 1\n",
        "                    if env.is_solved():\n",
        "                        return True, {'solutions':c_path, \"num_nodes\":num_nodes, \"times\":time.time()-time_0}\n",
        "                batch_x[i, :] = env.state\n",
        "\n",
        "            # after checking the nodes expanded at the deepest    \n",
        "            if depth==max_depth:\n",
        "                print(\"Solution not found.\")\n",
        "                return False, None\n",
        "\n",
        "            # make predictions with the trained DNN\n",
        "            batch_x = torch.from_numpy(batch_x).to(device)\n",
        "            batch_p = model(batch_x).to(\"cpu\").detach().numpy()\n",
        "\n",
        "            # loop over candidates\n",
        "            candidates_next_depth = []  # storage for the depth-level candidates storing (path, value, index).\n",
        "            for i, c in enumerate(candidates):\n",
        "                c_path = c[\"path\"]\n",
        "                value_distribution = batch_p[i, :] # output logits for the given state\n",
        "                if __eval in [\"softmax\",\"cumprod\"]:\n",
        "                    value_distribution = softmax(value_distribution)\n",
        "                    if __eval==\"cumprod\":\n",
        "                        value_distribution *= c[\"value\"] # multiply the cumulative probability so far of the expanded path\n",
        "\n",
        "                for m, value in zip(env.moves_inference, value_distribution): # iterate over all possible moves.\n",
        "                    # predicted value to expand the path with the given move.\n",
        "\n",
        "                    if c_path and skip_redundant_moves:\n",
        "                        if env.metric=='QTM':\n",
        "                            if m not in env.moves_available_after[c_path[-1]]:\n",
        "                                # Two mutually canceling moves\n",
        "                                continue\n",
        "                            elif len(c_path) > 1:\n",
        "                                if c_path[-2] == c_path[-1] == m:\n",
        "                                    # three subsequent same moves\n",
        "                                    continue\n",
        "                                elif (\n",
        "                                    c_path[-2][0] == m[0]\n",
        "                                    and len(c_path[-2] + m) == 3\n",
        "                                    and c_path[-1][0] == env.pairing[m[0]]\n",
        "                                ):\n",
        "                                    # Two mutually canceling moves sandwiching an opposite face move\n",
        "                                    continue\n",
        "                        elif env.metric=='HTM':\n",
        "                            if c_path:\n",
        "                                if skip_redundant_moves:\n",
        "                                    if m[0] == c_path[-1][0]:\n",
        "                                        # Two mutually canceling moves\n",
        "                                        continue\n",
        "                                    elif len(c_path)>1:\n",
        "                                        if c_path[-2][0] == m[0] and c_path[-1][0] == env.pairing[m[0]]:\n",
        "                                            # Two mutually canceling moves sandwiching an opposite face move\n",
        "                                            continue\n",
        "                        else:\n",
        "                            raise\n",
        "\n",
        "                    # add to the next-depth candidates unless 'continue'd.\n",
        "                    candidates_next_depth.append({\n",
        "                        'state':deepcopy(c['state']),\n",
        "                        \"path\": c_path+[m],\n",
        "                        \"value\":value,\n",
        "                    })\n",
        "\n",
        "            # sort potential paths by expected values and renew as 'candidates'\n",
        "            candidates = sorted(candidates_next_depth, key=lambda item: -item['value'])\n",
        "            # if the number of candidates exceed that of beam width 'beam_width'\n",
        "            candidates = candidates[:beam_width]\n"
      ]
    },
    {
      "cell_type": "markdown",
      "metadata": {
        "id": "7zbOlws3wNAI"
      },
      "source": [
        "### Solve"
      ]
    },
    {
      "cell_type": "code",
      "execution_count": null,
      "metadata": {
        "colab": {
          "base_uri": "https://localhost:8080/",
          "height": 568
        },
        "id": "4KnsiPonuWq0",
        "outputId": "0ed62f18-19a9-48b2-a56a-d0d92e57730b"
      },
      "outputs": [
        {
          "name": "stderr",
          "output_type": "stream",
          "text": [
            "100%|██████████| 1000/1000 [2:16:39<00:00,  8.20s/it]\n"
          ]
        },
        {
          "data": {
            "image/png": "[encoded data removed]",
            "text/plain": [
              "<Figure size 1152x648 with 6 Axes>"
            ]
          },
          "metadata": {
            "needs_background": "light"
          },
          "output_type": "display_data"
        }
      ],
      "source": [
        "result_all = {\n",
        "    \"solutions\":[],\n",
        "    \"num_nodes\":[],\n",
        "    \"times\":[]\n",
        "}\n",
        "for scramble in tqdm(test_scrambles, position=0):\n",
        "    # reset and scramble\n",
        "    env.reset()\n",
        "    for scramble_move in scramble:\n",
        "        env.finger(scramble_move)\n",
        "    # solve\n",
        "    success, result = beam_search(env, model, SearchConfig.max_depth, SearchConfig.beam_width)\n",
        "    if success:\n",
        "        for k in result_all.keys():\n",
        "            result_all[k].append(result[k])\n",
        "\n",
        "plot_result(*result_all.values())\n"
      ]
    },
    {
      "cell_type": "markdown",
      "metadata": {
        "id": "ADP7zZzKJr-m"
      },
      "source": [
        "## Comparison to DeepCubeA"
      ]
    },
    {
      "cell_type": "markdown",
      "metadata": {
        "id": "tFCy2rKkziW-"
      },
      "source": [
        "### Solution length vs No. of nodes"
      ]
    },
    {
      "cell_type": "code",
      "execution_count": null,
      "metadata": {
        "id": "anOZgpnC0Vyq"
      },
      "outputs": [],
      "source": [
        "num_nodes_ours = [e for e in result_all[\"num_nodes\"] if e]\n",
        "times_ours = [e for e in result_all[\"times\"] if e]\n",
        "len_ours = [len(e) for e in result_all[\"solutions\"] if e]\n",
        "len_ours_count = {i: len_ours.count(i) for i in range(min(len_ours), max(len_ours)+1)}\n"
      ]
    },
    {
      "cell_type": "code",
      "execution_count": null,
      "metadata": {
        "colab": {
          "base_uri": "https://localhost:8080/",
          "height": 521
        },
        "id": "zeKUE1rFznt5",
        "outputId": "ca905882-4366-479c-862c-e2bb216c1809"
      },
      "outputs": [
        {
          "data": {
            "image/png": "[encoded data removed]",
            "text/plain": [
              "<Figure size 540x540 with 3 Axes>"
            ]
          },
          "metadata": {
            "needs_background": "light"
          },
          "output_type": "display_data"
        }
      ],
      "source": [
        "left, width = 0.12, 0.75\n",
        "bottom, height = 0.1, 0.75\n",
        "spacing = 0.0\n",
        "\n",
        "rect_scatter = [left, bottom, width, height]\n",
        "rect_histx = [left, bottom + height, width, 0.1]\n",
        "rect_histy = [left + width, bottom, 0.1, height]\n",
        "\n",
        "fig = plt.figure(figsize=(7.5, 7.5))\n",
        "ax = fig.add_axes(rect_scatter)\n",
        "ax.set_xlabel(\"Solution length\")\n",
        "ax.set_ylabel(\"No. of nodes\")\n",
        "ax.set_yscale(\"log\")\n",
        "ax_histx = fig.add_axes(rect_histx, sharex=ax)\n",
        "ax_histy = fig.add_axes(rect_histy, sharey=ax)\n",
        "ax_histx.set_ylabel(\"Frequency\")\n",
        "ax_histy.set_xlabel(\"Frequency\")\n",
        "ax_histx.tick_params(axis=\"x\", labelbottom=False)\n",
        "ax_histy.tick_params(axis=\"y\", labelleft=False)\n",
        "\n",
        "ax.set_xlim(15, max(len_ours))\n",
        "ax_histx.set_xlim(15, max(len_ours))\n",
        "\n",
        "ymax = 8.25\n",
        "ax.set_ylim(10**2.5, 10**ymax)\n",
        "ax_histy.set_ylim(10**2.5, 10**ymax)\n",
        "bins_x = np.logspace(2.5, ymax, 100)\n",
        "\n",
        "for k, (x, y) in {\n",
        "        \"Optimal\": (len_Optimal, num_nodes_Optimal),\n",
        "        \"DeepCubeA\": (len_DeepCubeA, num_nodes_DeepCubeA),\n",
        "        \"Ours\": (len_ours, num_nodes_ours),\n",
        "    }.items():\n",
        "    ax.scatter(x, y, label=k, s=10)\n",
        "    ax_histy.hist(y, bins=bins_x, orientation=\"horizontal\")\n",
        "\n",
        "for i, d in enumerate([len_Optimal_count, len_DeepCubeA_count, len_ours_count]):\n",
        "    ax_histx.bar(list(d.keys()), list(d.values()), width=1)\n",
        "\n",
        "ax_histx.axvline(np.mean(len_ours), color=\"#EB4275\")\n",
        "ax.axvline(np.mean(len_ours), color=\"#EB4275\")\n",
        "\n",
        "ax.plot(np.mean(len_Optimal), np.mean(num_nodes_Optimal), \"x\", markersize=10)\n",
        "ax.plot(np.mean(len_DeepCubeA), np.mean(num_nodes_DeepCubeA), \"x\", markersize=10)\n",
        "ax.plot(np.mean(len_ours), np.mean(num_nodes_ours), \"x\", label=\"Ours\", markersize=10)\n",
        "ax.legend()\n",
        "\n",
        "plt.show()\n"
      ]
    },
    {
      "cell_type": "markdown",
      "metadata": {
        "id": "DmWG3Bwv4Gei"
      },
      "source": [
        "### Calculation time (s) vs. Solution length\n",
        "\n",
        "We compare time taken to solve test cases. \n",
        "\n",
        "In order to compare fairly our method to DeepCubeA, both of which are DNN-based, we obtain per-node time (s) and adjust ours to DeepCubeA."
      ]
    },
    {
      "cell_type": "code",
      "execution_count": null,
      "metadata": {
        "colab": {
          "base_uri": "https://localhost:8080/",
          "height": 390
        },
        "id": "UzmmXFTk4K9x",
        "outputId": "a11809a0-2554-4c2e-f6c9-14440525baf9"
      },
      "outputs": [
        {
          "name": "stdout",
          "output_type": "stream",
          "text": [
            "Optimal:\t1.4801182995895741e-06\n",
            "DeepCubeA:\t9.073204353441794e-06\n",
            "Ours:\t9.461254480153633e-05\n"
          ]
        },
        {
          "data": {
            "image/png": "[encoded data removed]",
            "text/plain": [
              "<Figure size 360x360 with 1 Axes>"
            ]
          },
          "metadata": {
            "needs_background": "light"
          },
          "output_type": "display_data"
        }
      ],
      "source": [
        "fig, ax = plt.subplots(1, 1, figsize=(5, 5))\n",
        "ax.set_xlabel(\"Calculation time per node (s)\")\n",
        "ax.set_ylabel(\"Frequency\")\n",
        "ax.set_xscale(\"log\")\n",
        "ax.set_xlim(10**-6.5, 10**-3.75)\n",
        "bins_x = np.logspace(-6.5, -3.75, 100)\n",
        "for k, (n, t) in {\n",
        "        \"Optimal\": (num_nodes_Optimal, times_Optimal),\n",
        "        \"DeepCubeA\": (num_nodes_DeepCubeA, times_DeepCubeA),\n",
        "        \"Ours\": (num_nodes_ours, times_ours),\n",
        "    }.items():\n",
        "    time_per_node = np.array(t) / np.array(n) # time per node\n",
        "    ax.hist(time_per_node, bins=bins_x, label=k)\n",
        "    print(f\"{k}:\\t{np.mean(time_per_node)}\")\n",
        "ax.legend()\n",
        "plt.show()\n"
      ]
    },
    {
      "cell_type": "code",
      "execution_count": null,
      "metadata": {
        "colab": {
          "base_uri": "https://localhost:8080/"
        },
        "id": "w7Kuyx5QVDQG",
        "outputId": "f5810628-0252-44c2-96af-095b60374989"
      },
      "outputs": [
        {
          "data": {
            "text/plain": [
              "10.42768807093454"
            ]
          },
          "execution_count": 40,
          "metadata": {},
          "output_type": "execute_result"
        }
      ],
      "source": [
        "t_per_node_DeepCubeA = np.array(times_DeepCubeA) / np.array(num_nodes_DeepCubeA)\n",
        "t_per_node_Ours = np.array(times_ours) / np.array(num_nodes_ours)\n",
        "t_ratio = np.mean(t_per_node_Ours) / np.mean(t_per_node_DeepCubeA)\n",
        "t_ratio"
      ]
    },
    {
      "cell_type": "code",
      "execution_count": null,
      "metadata": {
        "colab": {
          "base_uri": "https://localhost:8080/",
          "height": 362
        },
        "id": "Bk3T44bB4b5Q",
        "outputId": "0b03b5da-6def-49f8-e4c9-e80382eb99c5"
      },
      "outputs": [
        {
          "data": {
            "image/png": "[encoded data removed]",
            "text/plain": [
              "<Figure size 720x360 with 5 Axes>"
            ]
          },
          "metadata": {
            "needs_background": "light"
          },
          "output_type": "display_data"
        }
      ],
      "source": [
        "left, width = 0.125, 0.35\n",
        "bottom, height = 0.135, 0.70\n",
        "\n",
        "rect_scatter = [left, bottom, width, height]\n",
        "rect_scatter_j = [left + width, bottom, width, height]\n",
        "rect_histx_0 = [left, bottom + height, width, 0.10]\n",
        "rect_histx_1 = [left + width, bottom + height, width, 0.10]\n",
        "rect_histy = [left + 2 * (width), bottom, 0.125, height]\n",
        "\n",
        "fig = plt.figure(figsize=(10, 5))\n",
        "ax = fig.add_axes(rect_scatter)\n",
        "ax.set_xlabel(\"Actual time taken (s)\")\n",
        "ax.set_ylabel(\"Solution lengths\")\n",
        "ax.set_xscale(\"log\")\n",
        "ax_j = fig.add_axes(rect_scatter_j)\n",
        "ax_j.set_xlabel(\"Normalized time taken (s)\")\n",
        "ax_j.set_xscale(\"log\")\n",
        "ax_j.tick_params(axis=\"y\", labelleft=False)\n",
        "\n",
        "ax_histx_0 = fig.add_axes(rect_histx_0, sharex=ax)\n",
        "ax_histx_0.set_ylabel(\"Frequency\")\n",
        "ax_histx_0.tick_params(axis=\"x\", labelbottom=False)\n",
        "ax_histx_1 = fig.add_axes(rect_histx_1, sharex=ax)\n",
        "ax_histx_1.tick_params(axis=\"x\", labelbottom=False)\n",
        "ax_histx_1.tick_params(axis=\"y\", labelleft=False)\n",
        "ax_histy = fig.add_axes(rect_histy, sharey=ax)\n",
        "ax_histy.set_xlabel(\"Frequency\")\n",
        "ax_histy.tick_params(axis=\"y\", labelleft=True)\n",
        "\n",
        "bins_x = np.logspace(-3.5, 3.25, 100)\n",
        "for k, (t, s) in {\n",
        "        \"Optimal\": (times_Optimal, len_Optimal),\n",
        "        \"DeepCubeA\": (times_DeepCubeA, len_DeepCubeA),\n",
        "        \"Ours\": (times_ours, len_ours),\n",
        "    }.items():\n",
        "    ax.scatter(t, s, label=k, s=5)\n",
        "    ax_histx_0.hist(t, bins=bins_x)\n",
        "    if k == \"Ours\":\n",
        "        t_justified = np.array(t) / t_ratio\n",
        "        ax_histx_1.hist(t_justified, bins=bins_x)\n",
        "        ax_j.scatter(t_justified, s, label=k, s=5)\n",
        "    else:\n",
        "        ax_histx_1.hist(np.array(t), bins=bins_x)\n",
        "        ax_j.scatter(np.array(t), s, label=k, s=5)\n",
        "\n",
        "for AX in [ax, ax_j]:\n",
        "    AX.plot(np.mean(times_Optimal), np.mean(len_Optimal), \"x\", markersize=10)\n",
        "    AX.plot(np.mean(times_DeepCubeA), np.mean(len_DeepCubeA), \"x\", markersize=10)\n",
        "    AX.set_xlim(10**-3.5, 10**3.25)\n",
        "    AX.set_ylim(15.5, max(len_ours) + 1)\n",
        "\n",
        "for AX in [ax, ax_j, ax_histy]:\n",
        "    AX.axhline(np.mean(len_ours), color=\"#EB4275\")\n",
        "\n",
        "for i, d in enumerate([len_Optimal_count, len_DeepCubeA_count, len_ours_count]):\n",
        "    ax_histy.barh(list(d.keys()), list(d.values()), height=1)\n",
        "\n",
        "ax.plot(np.mean(times_ours), np.mean(len_ours), \"x\", markersize=20)\n",
        "ax_j.plot(np.mean(times_ours) / t_ratio, np.mean(len_ours), \"x\", markersize=20)\n",
        "\n",
        "ax.legend()\n",
        "plt.show()\n"
      ]
    }
  ],
  "metadata": {
    "accelerator": "GPU",
    "colab": {
      "collapsed_sections": [
        "2bYs2VICZxdg"
      ],
      "machine_shape": "hm",
      "provenance": []
    },
    "gpuClass": "standard",
    "kernelspec": {
      "display_name": "Python 3.9.2 64-bit",
      "language": "python",
      "name": "python3"
    },
    "language_info": {
      "name": "python",
      "version": "3.9.2"
    },
    "vscode": {
      "interpreter": {
        "hash": "916dbcbb3f70747c44a77c7bcd40155683ae19c65e1c03b4aa3499c5328201f1"
      }
    }
  },
  "nbformat": 4,
  "nbformat_minor": 0
}
