{
  "cells": [
    {
      "cell_type": "markdown",
      "metadata": {
        "id": "7fbESWTdAjqR"
      },
      "source": [
        "# **Appendix C: 7x7 Lights Out**\n",
        "---\n",
        "[![arXiv](https://img.shields.io/badge/arXiv-2106.03157-b31b1b?style=for-the-badge)](https://arxiv.org/abs/2106.03157)\n",
        "[![GitHub Repository](https://img.shields.io/badge/-Repository-2dba4e?logo=github&style=for-the-badge)](https://github.com/kyo-takano/EfficientCube)\n",
        "\n",
        "[![Open in Colab](https://colab.research.google.com/assets/colab-badge.svg)](https://colab.research.google.com/github/kyo-takano/EfficientCube/blob/main/notebooks/EfficientCube_Lights_Out.ipynb)\n",
        "[![Open in Kaggle](https://kaggle.com/static/images/open-in-kaggle.svg)](https://kaggle.com/kernels/welcome?src=https://github.com/kyo-takano/EfficientCube/blob/main/notebooks/EfficientCube_Lights_Out.ipynb)\n",
        "\n",
        "This notebook is intended to demonstrate the proposed method and to allow for reproducible experiments.\n",
        "\n",
        "As in our paper, the number of training steps ```TrainConfig.num_train_steps``` is set to $10000$.\n",
        "\n",
        "See paper for theoretical & experimental details.\n",
        "\n",
        "### **Training & Inference**\n",
        "\n",
        "The DNN is trained to predict all moves comprising a scramble from the corresponding problem state. \\\n",
        "Since every move is binary in Lights Out, we simply toggle and cancel predicted moves when solving cases.\n",
        "\n",
        "### **Test**\n",
        "\n",
        "The trained model is evaluated on [500 test cases provided by Forest Agostinelli, et al. (2019)](https://github.com/forestagostinelli/DeepCubeA/).\\\n",
        "In this notebook, we omit comparison to DeepCubeA result. Although both methods solved all the test cases optimally, ours did so using greedy search (`beam_width=1`).\n",
        "\n",
        "---\n",
        "### ***Q. How much time does this notebook take?***\n",
        "\n",
        "For reference, it took **about 2.5 hours** to run the entire notebook, including training, inference, and comparison.\n",
        "\n",
        "Computational resources: one 4-core CPU & one GPU ([NVIDIA Tesla P100 PCIe 16GB](https://images.nvidia.com/content/tesla/pdf/nvidia-tesla-p100-PCIe-datasheet.pdf))."
      ]
    },
    {
      "cell_type": "markdown",
      "metadata": {
        "id": "Bkm-I-6R8P_T"
      },
      "source": [
        "## Setup"
      ]
    },
    {
      "cell_type": "markdown",
      "metadata": {
        "id": "d9UauhNv_Hgp"
      },
      "source": [
        "Parameters"
      ]
    },
    {
      "cell_type": "code",
      "execution_count": null,
      "metadata": {
        "id": "hrbMOYJd-ukF"
      },
      "outputs": [],
      "source": [
        "# problem\n",
        "SCRAMBLE_LENGTH = 7*7\n",
        "# training\n",
        "class TrainConfig:\n",
        "    learning_rate = 1e-3\n",
        "    batch_size_per_depth = 1000\n",
        "    num_train_steps = 10000\n",
        "    interval_steps_save = 1000\n",
        "    interval_steps_plot = 100\n",
        "    scramble_length = SCRAMBLE_LENGTH\n",
        "\n",
        "# inference\n",
        "class SearchConfig:\n",
        "    ## This can be any number greater than or equal to the Gods Number.\n",
        "    max_depth = SCRAMBLE_LENGTH * 2\n",
        "    # beam_width = 1\n"
      ]
    },
    {
      "cell_type": "markdown",
      "metadata": {
        "id": "ENu9Qut4Zwbg"
      },
      "source": [
        "Modules & Utilities"
      ]
    },
    {
      "cell_type": "code",
      "execution_count": null,
      "metadata": {
        "cellView": "form",
        "colab": {
          "base_uri": "https://localhost:8080/"
        },
        "id": "nF5FQBsiZxPB",
        "outputId": "5e16770d-16d7-4c22-a39b-28eb6dbc8e24"
      },
      "outputs": [
        {
          "name": "stdout",
          "output_type": "stream",
          "text": [
            "device: cuda:0\n",
            "multiprocessing.cpu_count(): 4\n",
            "GPU 0: Tesla P100-PCIE-16GB (UUID: GPU-dc9c1807-5646-970c-0806-366c186349eb)\n"
          ]
        }
      ],
      "source": [
        "#@title\n",
        "import os\n",
        "import time\n",
        "import random\n",
        "import pickle\n",
        "import numpy as np\n",
        "import multiprocessing\n",
        "from scipy.special import softmax\n",
        "from copy import deepcopy\n",
        "from tqdm import tqdm, trange\n",
        "from IPython.display import clear_output\n",
        "\n",
        "import torch\n",
        "from torch import nn\n",
        "device = torch.device('cuda:0' if torch.cuda.is_available() else 'cpu')\n",
        "\n",
        "print(f'device: {device}')\n",
        "print(f'multiprocessing.cpu_count(): {multiprocessing.cpu_count()}')\n",
        "!nvidia-smi -L\n"
      ]
    },
    {
      "cell_type": "code",
      "execution_count": null,
      "metadata": {
        "cellView": "form",
        "id": "xyvOqOeQ5EfI"
      },
      "outputs": [],
      "source": [
        "#@title\n",
        "import matplotlib.pyplot as plt\n",
        "import matplotlib as mpl\n",
        "from cycler import cycler\n",
        "\n",
        "mpl.rcParams[\"axes.prop_cycle\"] = cycler(\n",
        "    color=[\"#212121\", \"#2180FE\", \"#EB4275\"])\n",
        "\n",
        "\n",
        "def plt_history(h):\n",
        "    fig, axes = plt.subplots(1, 1, figsize=[4, 4])\n",
        "    axes.plot(h)\n",
        "    axes.set_xscale(\"log\")\n",
        "    axes.set_title(\"Loss\")\n",
        "    plt.show()\n",
        "\n",
        "\n",
        "def regression_coef(x, y):\n",
        "    coef = np.array(y) / np.array(x)\n",
        "    coef = np.mean(np.squeeze(coef))\n",
        "    return coef\n",
        "\n",
        "\n",
        "def plot_result(solutions_all, num_nodes_all, times_all):\n",
        "    fig, ax = plt.subplots(2, 3, figsize=(16, 9))\n",
        "    ax = ax.ravel()\n",
        "    for i, result in enumerate([solutions_all, num_nodes_all, times_all]):\n",
        "        result = [e for e in result if e is not None]\n",
        "        if i == 0:  # soltions\n",
        "            result = [len(e) for e in result if e is not None]\n",
        "            ax[i].axvline(\n",
        "                np.mean(result),\n",
        "                color=\"#00ffff\",\n",
        "                label=f\"mean={round(np.mean(result),3)}\",\n",
        "            )\n",
        "            result = {i: result.count(i)\n",
        "                      for i in range(min(result), max(result) + 1)}\n",
        "            ax[i].bar(\n",
        "                result.keys(),\n",
        "                result.values(),\n",
        "                width=1.0,\n",
        "                label=f\"Success: {len([len(e) for e in solutions_all if e is not None])}/{len(solutions_all)}\",\n",
        "            )\n",
        "            ax[i].legend()\n",
        "            ax[i].set_xlabel(\"Solution length\")\n",
        "            ax[i].set_ylabel(\"Frequency\")\n",
        "        else:\n",
        "            ax[i].hist(result)\n",
        "            ax[i].axvline(\n",
        "                np.mean(result),\n",
        "                color=\"#00ffff\",\n",
        "                label=f\"mean={round(np.mean(result),3)}\",\n",
        "            )\n",
        "            ax[i].legend()\n",
        "            if i == 1:\n",
        "                ax[i].set_xlabel(\"No. of nodes\")\n",
        "            else:\n",
        "                ax[i].set_xlabel(\"Calculation time (s)\")\n",
        "\n",
        "    solution_lengths, num_nodes, times = [\n",
        "        [e for e in result if e is not None]\n",
        "        for result in [solutions_all, num_nodes_all, times_all]\n",
        "    ]\n",
        "    solution_lengths = [len(e) for e in solution_lengths]\n",
        "\n",
        "    for (xlabel, ylabel), (x, y) in [\n",
        "        [(\"Solution lengths\", \"No. of nodes\"), (solution_lengths, num_nodes)],\n",
        "        [(\"No. of nodes\", \"Calculation time (s)\"), (num_nodes, times)],\n",
        "        [(\"Calculation time (s)\", \"Solution lengths\"), (times, solution_lengths)],\n",
        "    ]:\n",
        "        i += 1\n",
        "        ax[i].set_xlabel(xlabel)\n",
        "        ax[i].set_ylabel(ylabel)\n",
        "        x_range = np.linspace(0, max(x), 100)\n",
        "        ax[i].plot(\n",
        "            x_range,\n",
        "            x_range * regression_coef(x, y),\n",
        "            label=f\"slope={round(regression_coef(x, y), 5)}\",\n",
        "            color=\"#00ffff\",\n",
        "        )\n",
        "        ax[i].scatter(x, y)\n",
        "        ax[i].legend()\n",
        "\n",
        "    plt.show()\n"
      ]
    },
    {
      "cell_type": "markdown",
      "metadata": {
        "id": "2bYs2VICZxdg"
      },
      "source": [
        "## Environment: 7x7 LightsOut\n"
      ]
    },
    {
      "cell_type": "code",
      "execution_count": null,
      "metadata": {
        "id": "9eMhYIXrWuwV"
      },
      "outputs": [],
      "source": [
        "class LightsOut7(object):\n",
        "    def __init__(self, dim=7):\n",
        "        self.dtype = np.int64\n",
        "\n",
        "        # define state and goal\n",
        "        self.dim = dim\n",
        "        self.num_tiles = self.dim ** 2\n",
        "        self.moves_inference = list(range(self.num_tiles))\n",
        "        self.reset()\n",
        "\n",
        "        # vectorize the sticker group replacement operations\n",
        "        self.__vectorize_moves()\n",
        "\n",
        "    def reset(self):\n",
        "        self.state = np.zeros((self.num_tiles), dtype=self.dtype)\n",
        "\n",
        "    def is_solved(self):\n",
        "        return np.all(self.state == 0)\n",
        "\n",
        "    def state_to_batch(self):\n",
        "        return np.expand_dims(self.state, axis=0)\n",
        "\n",
        "    def finger(self, move):\n",
        "        self.state[self.move_matrix[move]] = (self.state[self.move_matrix[move]] + 1) % 2 # Take modulo of odd/even to simulate boolean\n",
        "\n",
        "    def scrambler(self, scramble_length=SCRAMBLE_LENGTH):\n",
        "        while True:\n",
        "            self.reset()\n",
        "            scramble = []\n",
        "            moves = list(np.random.permutation(scramble_length))\n",
        "            for i in range(scramble_length):\n",
        "                move = moves[i]\n",
        "                self.finger(move)\n",
        "                scramble.append(move)\n",
        "\n",
        "                # yield self.state, move\n",
        "                yield self.state, scramble\n",
        "\n",
        "    def __vectorize_moves(self):\n",
        "        self.move_matrix = np.zeros((self.num_tiles, 5), dtype=np.int64)\n",
        "        for move in range(self.num_tiles):\n",
        "            x_pos = int(np.floor(move / self.dim))\n",
        "            y_pos = move % self.dim\n",
        "\n",
        "            right = move + self.dim if x_pos < (self.dim-1) else move\n",
        "            left = move - self.dim if x_pos > 0 else move\n",
        "            up = move + 1 if y_pos < (self.dim - 1) else move\n",
        "            down = move - 1 if y_pos > 0 else move\n",
        "\n",
        "            self.move_matrix[move] = [move, right, left, up, down]\n",
        "\n",
        "\n",
        "env = LightsOut7()\n"
      ]
    },
    {
      "cell_type": "markdown",
      "metadata": {
        "id": "aJFeXe-za8oL"
      },
      "source": [
        "## Model"
      ]
    },
    {
      "cell_type": "code",
      "execution_count": null,
      "metadata": {
        "id": "cO471ABebCl6"
      },
      "outputs": [],
      "source": [
        "class LinearBlock(nn.Module):\n",
        "    \"\"\"\n",
        "    Linear layer with ReLU and BatchNorm\n",
        "    \"\"\"\n",
        "    def __init__(self, input_prev, embed_dim):\n",
        "        super(LinearBlock, self).__init__()\n",
        "        self.fc = nn.Linear(input_prev, embed_dim)\n",
        "        self.relu = nn.ReLU()\n",
        "        self.bn = nn.BatchNorm1d(embed_dim)\n",
        "\n",
        "    def forward(self, inputs):\n",
        "        x = inputs\n",
        "        x = self.fc(x)\n",
        "        x = self.relu(x)\n",
        "        x = self.bn(x)\n",
        "        return x\n",
        "\n",
        "\n",
        "class ResidualBlock(nn.Module):\n",
        "    \"\"\"\n",
        "    Residual block with two linear layers\n",
        "    \"\"\"\n",
        "    def __init__(self, embed_dim):\n",
        "        super(ResidualBlock, self).__init__()\n",
        "        self.linearblock_1 = LinearBlock(embed_dim, embed_dim)\n",
        "        self.linearblock_2 = LinearBlock(embed_dim, embed_dim)\n",
        "\n",
        "    def forward(self, inputs):\n",
        "        x = inputs\n",
        "        x = self.linearblock_1(x)\n",
        "        x = self.linearblock_2(x)\n",
        "        x += inputs # skip-connection\n",
        "        return x\n",
        "\n",
        "\n",
        "class Model(nn.Module):\n",
        "    def __init__(self):\n",
        "        super(Model, self).__init__()\n",
        "        self.one_hot = nn.functional.one_hot\n",
        "        self.Stack = nn.Sequential(\n",
        "            LinearBlock(7*7, 5000),\n",
        "            LinearBlock(5000, 1000),\n",
        "            ResidualBlock(1000),\n",
        "            ResidualBlock(1000),\n",
        "            ResidualBlock(1000),\n",
        "            ResidualBlock(1000),\n",
        "        )\n",
        "        self.Prediction = nn.Linear(1000, 7*7)\n",
        "\n",
        "    def forward(self, inputs):\n",
        "        x = inputs\n",
        "        x = x.to(torch.float)\n",
        "        x = self.Stack(x)\n",
        "        logits = self.Prediction(x)\n",
        "        return logits\n",
        "\n",
        "\n",
        "model = Model().to(device)"
      ]
    },
    {
      "cell_type": "markdown",
      "metadata": {
        "id": "gv617n3MbSdO"
      },
      "source": [
        "## Training"
      ]
    },
    {
      "cell_type": "code",
      "execution_count": null,
      "metadata": {
        "id": "C8845Zz4E5Sw"
      },
      "outputs": [],
      "source": [
        "def batch_generator(\n",
        "        batch_size_per_depth,\n",
        "        scramble_length=SCRAMBLE_LENGTH,\n",
        "        n_jobs=multiprocessing.cpu_count(),\n",
        "    ):\n",
        "    # setup\n",
        "    __dtype = np.int64\n",
        "    batch_size = batch_size_per_depth * scramble_length\n",
        "    # multiprocessing\n",
        "    envs = [LightsOut7()] * n_jobs\n",
        "    generators = [E.scrambler(scramble_length=scramble_length) for E in envs]\n",
        "\n",
        "    global get_minibatch\n",
        "    def get_minibatch(i):\n",
        "        states = np.zeros((scramble_length, 7*7), dtype=__dtype)\n",
        "        # last_moves = np.zeros((scramble_length, ), dtype=__dtype)\n",
        "        last_moves = np.zeros((scramble_length, scramble_length), dtype=np.float64)\n",
        "        g_local = generators[i % n_jobs]\n",
        "        for j in range(scramble_length):\n",
        "            _, scramble = next(g_local)\n",
        "            states[j, :] = envs[i % n_jobs].state \n",
        "            last_moves[j, scramble] = 1 / scramble_length\n",
        "        return states, last_moves\n",
        "\n",
        "    # create the Pool instance after defining `envs` and `get_minibatch`\n",
        "    p = multiprocessing.Pool(n_jobs)\n",
        "    for _ in iter(int, 1):\n",
        "        ret = p.map(get_minibatch, list(range(batch_size_per_depth)))\n",
        "        batch_x = np.concatenate([e[0] for e in ret])\n",
        "        batch_y = np.concatenate([e[1] for e in ret], axis=0)\n",
        "        yield (batch_x, batch_y)"
      ]
    },
    {
      "cell_type": "code",
      "execution_count": null,
      "metadata": {
        "id": "rD5KQfJpbXyA"
      },
      "outputs": [],
      "source": [
        "def train(config):\n",
        "    model.train()\n",
        "    loss_fn = nn.CrossEntropyLoss()\n",
        "    optimizer = torch.optim.Adam(model.parameters(), lr=config.learning_rate)\n",
        "\n",
        "    BATCH_SIZE = config.batch_size_per_depth * config.scramble_length\n",
        "    scramble_length = config.scramble_length\n",
        "    g = batch_generator(\n",
        "        batch_size_per_depth=config.batch_size_per_depth,\n",
        "        scramble_length=config.scramble_length,\n",
        "    )\n",
        "    h = []\n",
        "\n",
        "    for i in trange(1, config.num_train_steps + 1, smoothing=0):\n",
        "        # prep\n",
        "        batch_x, batch_y = next(g)\n",
        "        batch_x, batch_y = torch.from_numpy(batch_x).to(device), torch.from_numpy(\n",
        "            batch_y\n",
        "        ).to(device)\n",
        "\n",
        "        # update\n",
        "        pred_y = model(batch_x)\n",
        "        loss = loss_fn(pred_y, batch_y)\n",
        "        optimizer.zero_grad()\n",
        "        loss.backward()\n",
        "        optimizer.step()\n",
        "\n",
        "        h.append(loss.item())\n",
        "        if config.interval_steps_plot and i % config.interval_steps_plot == 0:\n",
        "            clear_output()\n",
        "            plt_history(h)\n",
        "        if config.interval_steps_save and i % config.interval_steps_save == 0:\n",
        "            torch.save(model.state_dict(), f\"{i}steps.pth\")\n",
        "            print(\"Model saved.\")"
      ]
    },
    {
      "cell_type": "code",
      "execution_count": null,
      "metadata": {
        "colab": {
          "base_uri": "https://localhost:8080/",
          "height": 337
        },
        "id": "7R-wfEN4dodR",
        "outputId": "cfa98ef5-ccf9-4ee4-a664-76ebccf2e568"
      },
      "outputs": [
        {
          "data": {
            "image/png": "[encoded data removed]",
            "text/plain": [
              "<Figure size 288x288 with 1 Axes>"
            ]
          },
          "metadata": {
            "needs_background": "light"
          },
          "output_type": "display_data"
        },
        {
          "name": "stderr",
          "output_type": "stream",
          "text": [
            "100%|██████████| 10000/10000 [2:19:31<00:00,  1.19it/s]"
          ]
        },
        {
          "name": "stdout",
          "output_type": "stream",
          "text": [
            "Model saved.\n",
            "Trained on data equivalent to 10000000 solves.\n"
          ]
        },
        {
          "name": "stderr",
          "output_type": "stream",
          "text": [
            "\n"
          ]
        }
      ],
      "source": [
        "train(TrainConfig)\n",
        "print(f\"Trained on data equivalent to {TrainConfig.batch_size_per_depth * TrainConfig.num_train_steps} solves.\")\n"
      ]
    },
    {
      "cell_type": "markdown",
      "metadata": {
        "id": "vypiIaEdA_Is"
      },
      "source": [
        "## Inference\n",
        "\n",
        "We test and compare on the DeepCubeA dataset"
      ]
    },
    {
      "cell_type": "code",
      "execution_count": null,
      "metadata": {
        "id": "uAeWyXSDA_Iu"
      },
      "outputs": [],
      "source": [
        "%%capture\n",
        "model.eval()"
      ]
    },
    {
      "cell_type": "markdown",
      "metadata": {
        "id": "3qmOLYbzA_Ix"
      },
      "source": [
        "### Dataset"
      ]
    },
    {
      "cell_type": "markdown",
      "metadata": {
        "id": "pEpU0qJuA_Ix"
      },
      "source": [
        "Download dataset from GitHub"
      ]
    },
    {
      "cell_type": "code",
      "execution_count": null,
      "metadata": {
        "colab": {
          "base_uri": "https://localhost:8080/"
        },
        "id": "MeMudB5LA_Iy",
        "outputId": "00d7cb05-ec51-4b26-e083-8782bb7dce44"
      },
      "outputs": [
        {
          "name": "stdout",
          "output_type": "stream",
          "text": [
            "/content/DeepCubeA\n",
            "\n",
            "### DeepCubeA ###\n",
            "dict_keys(['states', 'solutions', 'paths', 'times', 'num_nodes_generated'])\n",
            "No. of cases: 500\n",
            "/content\n"
          ]
        }
      ],
      "source": [
        "if \"DeepCubeA\"!=os.getcwd().split(\"/\")[-1]:\n",
        "    if not os.path.exists('DeepCubeA'):\n",
        "        !git clone -q https://github.com/forestagostinelli/DeepCubeA\n",
        "    %cd ./DeepCubeA/\n",
        "\n",
        "print('\\n### DeepCubeA ###')\n",
        "\n",
        "filename = 'results/lightsout7/results.pkl'\n",
        "with open(filename, 'rb') as f:\n",
        "    data_Optimal = pickle.load(f)\n",
        "\n",
        "print(data_Optimal.keys())\n",
        "solutions_Optimal, times_Optimal, num_nodes_Optimal = [\n",
        "    data_Optimal[e] for e in ['solutions', 'times', 'num_nodes_generated']]\n",
        "len_Optimal = [len(s) for s in solutions_Optimal]\n",
        "len_Optimal_count = {i: len_Optimal.count(\n",
        "    i) for i in range(min(len_Optimal), max(len_Optimal))}\n",
        "\n",
        "print('No. of cases:', len(len_Optimal))\n",
        "\n",
        "%cd ../"
      ]
    },
    {
      "cell_type": "code",
      "execution_count": null,
      "metadata": {
        "id": "FZ-YEEtcA_I1"
      },
      "outputs": [],
      "source": [
        "# in LightsOut, applying the solution is equivalent to undoing it.\n",
        "test_scrambles = solutions_Optimal"
      ]
    },
    {
      "cell_type": "markdown",
      "metadata": {
        "id": "m4WFRV3uA_I1"
      },
      "source": [
        "### Greedy search"
      ]
    },
    {
      "cell_type": "code",
      "execution_count": null,
      "metadata": {
        "id": "Iz0EtHtnA_I2"
      },
      "outputs": [],
      "source": [
        "def beam_search(\n",
        "        env,\n",
        "        model,\n",
        "        max_depth,\n",
        "        beam_width,\n",
        "        __eval = 'logits',\n",
        "        skip_redundant_moves=True,\n",
        "    ):\n",
        "    \"\"\"\n",
        "    Best-first search algorithm.\n",
        "    Input:\n",
        "        env: A scrambled instance of the given environment. \n",
        "        beam_width: Number of top solutions to return per depth.\n",
        "        max_depth: Maximum depth of the search tree.\n",
        "        __eval: Evaluation method for sorting nodes to expand, based on DNN outputs: 'softmax', 'logits', or 'cumprod'. \n",
        "        skip_redundant_moves: If True, skip redundant moves.\n",
        "        ...\n",
        "    Output: \n",
        "        if solved successfully:\n",
        "            True, {'solutions':solution path, \"num_nodes\":number of nodes expanded, \"times\":time taken to solve}\n",
        "        else:\n",
        "            False, None\n",
        "    \"\"\"\n",
        "    with torch.no_grad():\n",
        "        # metrics\n",
        "        num_nodes, time_0 = 0, time.time()\n",
        "        candidates = [\n",
        "            {\"state\":deepcopy(env.state), \"path\":[], \"value\":1.}\n",
        "        ] # list of dictionaries\n",
        "\n",
        "        for depth in range(max_depth+1):\n",
        "            # TWO things at a time for every candidate: 1. check if solved & 2. add to batch_x\n",
        "            batch_x = np.zeros((len(candidates), env.state.shape[-1]), dtype=np.int64)\n",
        "            for i,c in enumerate(candidates):\n",
        "                c_path, env.state = c[\"path\"], c[\"state\"]\n",
        "                if c_path:\n",
        "                    env.finger(c_path[-1])\n",
        "                    num_nodes += 1\n",
        "                    if env.is_solved():\n",
        "                        return True, {'solutions':c_path, \"num_nodes\":num_nodes, \"times\":time.time()-time_0}\n",
        "                batch_x[i, :] = env.state\n",
        "\n",
        "            # after checking the nodes expanded at the deepest    \n",
        "            if depth==max_depth:\n",
        "                print(\"Solution not found.\")\n",
        "                return False, None\n",
        "\n",
        "            # make predictions with the trained DNN\n",
        "            batch_x = torch.from_numpy(batch_x).to(device)\n",
        "            batch_p = model(batch_x).to(\"cpu\").detach().numpy()\n",
        "\n",
        "            # loop over candidates\n",
        "            candidates_next_depth = []  # storage for the depth-level candidates storing (path, value, index).\n",
        "            for i, c in enumerate(candidates):\n",
        "                c_path = c[\"path\"]\n",
        "                value_distribution = batch_p[i, :] # output logits for the given state\n",
        "                if __eval in [\"softmax\",\"cumprod\"]:\n",
        "                    value_distribution = softmax(value_distribution)\n",
        "                    if __eval==\"cumprod\":\n",
        "                        value_distribution *= c[\"value\"] # multiply the cumulative probability so far of the expanded path\n",
        "\n",
        "                for m, value in zip(env.moves_inference, value_distribution): # iterate over all possible moves.\n",
        "                    # predicted value to expand the path with the given move.\n",
        "\n",
        "                    if skip_redundant_moves:\n",
        "                        # logically meaningless operation\n",
        "                        if m in c_path:\n",
        "                            continue\n",
        "\n",
        "                    # add to the next-depth candidates unless 'continue'd.\n",
        "                    candidates_next_depth.append({\n",
        "                        'state':deepcopy(c['state']),\n",
        "                        \"path\": c_path+[m],\n",
        "                        \"value\":value,\n",
        "                    })\n",
        "\n",
        "            # sort potential paths by expected values and renew as 'candidates'\n",
        "            candidates = sorted(candidates_next_depth, key=lambda item: -item['value'])\n",
        "            # if the number of candidates exceed that of beam width 'beam_width'\n",
        "            candidates = candidates[:beam_width]\n",
        "\n",
        "def greedy_search(env, model, max_depth, skip_redundant_moves=True):\n",
        "    return beam_search(env, model, max_depth, 1, __eval = 'logits', skip_redundant_moves=True)\n"
      ]
    },
    {
      "cell_type": "markdown",
      "metadata": {
        "id": "p4vVawj7A_I3"
      },
      "source": [
        "### Solve"
      ]
    },
    {
      "cell_type": "code",
      "execution_count": null,
      "metadata": {
        "colab": {
          "base_uri": "https://localhost:8080/",
          "height": 566
        },
        "id": "4KnsiPonuWq0",
        "outputId": "5717b545-9aa3-4062-a16d-021fffb83859"
      },
      "outputs": [
        {
          "name": "stderr",
          "output_type": "stream",
          "text": [
            "100%|██████████| 500/500 [00:15<00:00, 32.53it/s]\n"
          ]
        },
        {
          "data": {
            "image/png": "[encoded data removed]",
            "text/plain": [
              "<Figure size 1152x648 with 6 Axes>"
            ]
          },
          "metadata": {
            "needs_background": "light"
          },
          "output_type": "display_data"
        }
      ],
      "source": [
        "result_all = {\n",
        "    \"solutions\":[],\n",
        "    \"num_nodes\":[],\n",
        "    \"times\":[]\n",
        "}\n",
        "for scramble in tqdm(test_scrambles, position=0):\n",
        "    # reset and scramble\n",
        "    env.reset()\n",
        "    for scramble_move in scramble:\n",
        "        env.finger(scramble_move)\n",
        "    # solve\n",
        "    success, result = greedy_search(env, model, SearchConfig.max_depth)\n",
        "    if success:\n",
        "        for k in result_all.keys():\n",
        "            result_all[k].append(result[k])\n",
        "\n",
        "plot_result(*result_all.values())\n"
      ]
    }
  ],
  "metadata": {
    "accelerator": "GPU",
    "colab": {
      "collapsed_sections": [],
      "machine_shape": "hm",
      "provenance": []
    },
    "gpuClass": "standard",
    "kernelspec": {
      "display_name": "Python 3.9.2 64-bit",
      "language": "python",
      "name": "python3"
    },
    "language_info": {
      "name": "python",
      "version": "3.9.2"
    },
    "vscode": {
      "interpreter": {
        "hash": "916dbcbb3f70747c44a77c7bcd40155683ae19c65e1c03b4aa3499c5328201f1"
      }
    }
  },
  "nbformat": 4,
  "nbformat_minor": 0
}
